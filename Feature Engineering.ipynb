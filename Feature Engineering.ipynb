{
 "cells": [
  {
   "cell_type": "markdown",
   "id": "75b41904",
   "metadata": {},
   "source": [
    "### Feature Selection Preprocessing Steps\n",
    "1. import data, basic cleaning, reordering of features, split labels from features\n",
    "2. impute data just to get a list of feature names for later\n",
    "    1. fix meal_plan NaN\n",
    "    2. fix veteran_indicator dtypes\n",
    "    3. fix hall_name NaN\n",
    "    4. then impute\n",
    "3. split numerical and categorical features\n",
    "4. impute missing data\n",
    "    1. categorical : most frequent\n",
    "    2. numerical : mean\n",
    "5. one hot encode categorical data\n",
    "6. scale numerical data\n",
    "7. join numerical and categorical data back into one structure"
   ]
  },
  {
   "cell_type": "code",
   "execution_count": 1,
   "id": "50069926",
   "metadata": {},
   "outputs": [],
   "source": [
    "import pandas as pd\n",
    "import numpy as np\n",
    "from sklearn import preprocessing\n",
    "import warnings\n",
    "from sklearn.impute import SimpleImputer"
   ]
  },
  {
   "cell_type": "markdown",
   "id": "a2a35262",
   "metadata": {},
   "source": [
    "### 1. import, clean, reorder, split labels from features"
   ]
  },
  {
   "cell_type": "code",
   "execution_count": 2,
   "id": "e50180dc",
   "metadata": {},
   "outputs": [
    {
     "data": {
      "text/html": [
       "<div>\n",
       "<style scoped>\n",
       "    .dataframe tbody tr th:only-of-type {\n",
       "        vertical-align: middle;\n",
       "    }\n",
       "\n",
       "    .dataframe tbody tr th {\n",
       "        vertical-align: top;\n",
       "    }\n",
       "\n",
       "    .dataframe thead th {\n",
       "        text-align: right;\n",
       "    }\n",
       "</style>\n",
       "<table border=\"1\" class=\"dataframe\">\n",
       "  <thead>\n",
       "    <tr style=\"text-align: right;\">\n",
       "      <th></th>\n",
       "      <th>transfer_hours_bt</th>\n",
       "      <th>total_sfa_hours_bt</th>\n",
       "      <th>begin_of_semester_gpa</th>\n",
       "      <th>college_bt</th>\n",
       "      <th>major_bt</th>\n",
       "      <th>first_enroll_term</th>\n",
       "      <th>new_SAT</th>\n",
       "      <th>ACT</th>\n",
       "      <th>TSI</th>\n",
       "      <th>hs_percentile</th>\n",
       "      <th>...</th>\n",
       "      <th>points_vs_median</th>\n",
       "      <th>content_completion_rate</th>\n",
       "      <th>mid_term_grade</th>\n",
       "      <th>total_time_spent_in_content</th>\n",
       "      <th>number_of_logins</th>\n",
       "      <th>content_topic_visits</th>\n",
       "      <th>total_time_spent</th>\n",
       "      <th>semester_gpa</th>\n",
       "      <th>probation</th>\n",
       "      <th>discontinued</th>\n",
       "    </tr>\n",
       "  </thead>\n",
       "  <tbody>\n",
       "    <tr>\n",
       "      <th>0</th>\n",
       "      <td>85.0</td>\n",
       "      <td>36.0</td>\n",
       "      <td>4.00</td>\n",
       "      <td>ED</td>\n",
       "      <td>DINS</td>\n",
       "      <td>202110</td>\n",
       "      <td>NaN</td>\n",
       "      <td>NaN</td>\n",
       "      <td>PI</td>\n",
       "      <td>NaN</td>\n",
       "      <td>...</td>\n",
       "      <td>0.978119</td>\n",
       "      <td>0.651572</td>\n",
       "      <td>NaN</td>\n",
       "      <td>11828.250000</td>\n",
       "      <td>1102.000000</td>\n",
       "      <td>492.0</td>\n",
       "      <td>63510.0</td>\n",
       "      <td>4.00</td>\n",
       "      <td>0</td>\n",
       "      <td>0</td>\n",
       "    </tr>\n",
       "    <tr>\n",
       "      <th>1</th>\n",
       "      <td>8.0</td>\n",
       "      <td>44.0</td>\n",
       "      <td>3.02</td>\n",
       "      <td>ED</td>\n",
       "      <td>KINE</td>\n",
       "      <td>202030</td>\n",
       "      <td>NaN</td>\n",
       "      <td>15.0</td>\n",
       "      <td>CR</td>\n",
       "      <td>67.0</td>\n",
       "      <td>...</td>\n",
       "      <td>0.636521</td>\n",
       "      <td>0.709124</td>\n",
       "      <td>75.0</td>\n",
       "      <td>13958.666667</td>\n",
       "      <td>741.833333</td>\n",
       "      <td>784.0</td>\n",
       "      <td>100776.0</td>\n",
       "      <td>2.25</td>\n",
       "      <td>0</td>\n",
       "      <td>0</td>\n",
       "    </tr>\n",
       "    <tr>\n",
       "      <th>2</th>\n",
       "      <td>0.0</td>\n",
       "      <td>18.0</td>\n",
       "      <td>3.00</td>\n",
       "      <td>LA</td>\n",
       "      <td>CONC</td>\n",
       "      <td>202110</td>\n",
       "      <td>NaN</td>\n",
       "      <td>NaN</td>\n",
       "      <td>NCR</td>\n",
       "      <td>NaN</td>\n",
       "      <td>...</td>\n",
       "      <td>0.838883</td>\n",
       "      <td>0.603404</td>\n",
       "      <td>79.0</td>\n",
       "      <td>33045.000000</td>\n",
       "      <td>817.000000</td>\n",
       "      <td>672.0</td>\n",
       "      <td>98771.0</td>\n",
       "      <td>1.50</td>\n",
       "      <td>1</td>\n",
       "      <td>0</td>\n",
       "    </tr>\n",
       "    <tr>\n",
       "      <th>3</th>\n",
       "      <td>18.0</td>\n",
       "      <td>65.0</td>\n",
       "      <td>3.28</td>\n",
       "      <td>FA</td>\n",
       "      <td>MUSC</td>\n",
       "      <td>202010</td>\n",
       "      <td>NaN</td>\n",
       "      <td>20.0</td>\n",
       "      <td>PI</td>\n",
       "      <td>67.0</td>\n",
       "      <td>...</td>\n",
       "      <td>0.661765</td>\n",
       "      <td>0.148493</td>\n",
       "      <td>95.0</td>\n",
       "      <td>1152.625000</td>\n",
       "      <td>1084.000000</td>\n",
       "      <td>9.0</td>\n",
       "      <td>9481.0</td>\n",
       "      <td>3.80</td>\n",
       "      <td>0</td>\n",
       "      <td>0</td>\n",
       "    </tr>\n",
       "    <tr>\n",
       "      <th>4</th>\n",
       "      <td>60.0</td>\n",
       "      <td>0.0</td>\n",
       "      <td>NaN</td>\n",
       "      <td>LA</td>\n",
       "      <td>CONC</td>\n",
       "      <td>202220</td>\n",
       "      <td>NaN</td>\n",
       "      <td>NaN</td>\n",
       "      <td>PI</td>\n",
       "      <td>NaN</td>\n",
       "      <td>...</td>\n",
       "      <td>0.951052</td>\n",
       "      <td>0.562601</td>\n",
       "      <td>95.0</td>\n",
       "      <td>17334.833333</td>\n",
       "      <td>285.666667</td>\n",
       "      <td>2076.0</td>\n",
       "      <td>122304.0</td>\n",
       "      <td>4.00</td>\n",
       "      <td>0</td>\n",
       "      <td>1</td>\n",
       "    </tr>\n",
       "  </tbody>\n",
       "</table>\n",
       "<p>5 rows × 38 columns</p>\n",
       "</div>"
      ],
      "text/plain": [
       "   transfer_hours_bt  total_sfa_hours_bt  begin_of_semester_gpa college_bt  \\\n",
       "0               85.0                36.0                   4.00         ED   \n",
       "1                8.0                44.0                   3.02         ED   \n",
       "2                0.0                18.0                   3.00         LA   \n",
       "3               18.0                65.0                   3.28         FA   \n",
       "4               60.0                 0.0                    NaN         LA   \n",
       "\n",
       "  major_bt  first_enroll_term  new_SAT   ACT  TSI  hs_percentile  ...  \\\n",
       "0     DINS             202110      NaN   NaN   PI            NaN  ...   \n",
       "1     KINE             202030      NaN  15.0   CR           67.0  ...   \n",
       "2     CONC             202110      NaN   NaN  NCR            NaN  ...   \n",
       "3     MUSC             202010      NaN  20.0   PI           67.0  ...   \n",
       "4     CONC             202220      NaN   NaN   PI            NaN  ...   \n",
       "\n",
       "   points_vs_median content_completion_rate mid_term_grade  \\\n",
       "0          0.978119                0.651572            NaN   \n",
       "1          0.636521                0.709124           75.0   \n",
       "2          0.838883                0.603404           79.0   \n",
       "3          0.661765                0.148493           95.0   \n",
       "4          0.951052                0.562601           95.0   \n",
       "\n",
       "  total_time_spent_in_content  number_of_logins content_topic_visits  \\\n",
       "0                11828.250000       1102.000000                492.0   \n",
       "1                13958.666667        741.833333                784.0   \n",
       "2                33045.000000        817.000000                672.0   \n",
       "3                 1152.625000       1084.000000                  9.0   \n",
       "4                17334.833333        285.666667               2076.0   \n",
       "\n",
       "   total_time_spent  semester_gpa  probation  discontinued  \n",
       "0           63510.0          4.00          0             0  \n",
       "1          100776.0          2.25          0             0  \n",
       "2           98771.0          1.50          1             0  \n",
       "3            9481.0          3.80          0             0  \n",
       "4          122304.0          4.00          0             1  \n",
       "\n",
       "[5 rows x 38 columns]"
      ]
     },
     "execution_count": 2,
     "metadata": {},
     "output_type": "execute_result"
    }
   ],
   "source": [
    "data = pd.read_csv('student_outcome202220.csv')\n",
    "data.head()"
   ]
  },
  {
   "cell_type": "code",
   "execution_count": 3,
   "id": "69705628",
   "metadata": {},
   "outputs": [
    {
     "name": "stdout",
     "output_type": "stream",
     "text": [
      "<class 'pandas.core.frame.DataFrame'>\n",
      "RangeIndex: 9361 entries, 0 to 9360\n",
      "Data columns (total 38 columns):\n",
      " #   Column                        Non-Null Count  Dtype  \n",
      "---  ------                        --------------  -----  \n",
      " 0   transfer_hours_bt             9361 non-null   float64\n",
      " 1   total_sfa_hours_bt            9361 non-null   float64\n",
      " 2   begin_of_semester_gpa         8877 non-null   float64\n",
      " 3   college_bt                    9361 non-null   object \n",
      " 4   major_bt                      9361 non-null   object \n",
      " 5   first_enroll_term             9361 non-null   int64  \n",
      " 6   new_SAT                       4189 non-null   float64\n",
      " 7   ACT                           2857 non-null   float64\n",
      " 8   TSI                           9176 non-null   object \n",
      " 9   hs_percentile                 5612 non-null   float64\n",
      " 10  gender                        9360 non-null   float64\n",
      " 11  race_ethnicity                9361 non-null   object \n",
      " 12  admit_code                    9348 non-null   object \n",
      " 13  student_type_code             9348 non-null   object \n",
      " 14  in_state_res_indicator        9348 non-null   float64\n",
      " 15  veteran_indicator             309 non-null    object \n",
      " 16  fathers_highest_ed_lvl        8608 non-null   float64\n",
      " 17  mothers_highest_ed_lvl        8265 non-null   float64\n",
      " 18  first_gen_status              9361 non-null   int64  \n",
      " 19  distance                      8998 non-null   float64\n",
      " 20  hs_sfa_gap                    9174 non-null   float64\n",
      " 21  meal_count                    2794 non-null   float64\n",
      " 22  meal_plan                     2794 non-null   object \n",
      " 23  hall_change                   2763 non-null   float64\n",
      " 24  hall_name                     2763 non-null   object \n",
      " 25  total_course_hours_attempted  9361 non-null   int64  \n",
      " 26  periodic_logins               9084 non-null   float64\n",
      " 27  points                        8860 non-null   float64\n",
      " 28  points_vs_median              8860 non-null   float64\n",
      " 29  content_completion_rate       9127 non-null   float64\n",
      " 30  mid_term_grade                8006 non-null   float64\n",
      " 31  total_time_spent_in_content   9353 non-null   float64\n",
      " 32  number_of_logins              9353 non-null   float64\n",
      " 33  content_topic_visits          8948 non-null   float64\n",
      " 34  total_time_spent              8948 non-null   float64\n",
      " 35  semester_gpa                  8992 non-null   float64\n",
      " 36  probation                     9361 non-null   int64  \n",
      " 37  discontinued                  9361 non-null   int64  \n",
      "dtypes: float64(24), int64(5), object(9)\n",
      "memory usage: 2.7+ MB\n"
     ]
    }
   ],
   "source": [
    "data.info()"
   ]
  },
  {
   "cell_type": "code",
   "execution_count": 4,
   "id": "6630556d",
   "metadata": {},
   "outputs": [],
   "source": [
    "#split X from labels\n",
    "Xraw = data.iloc[:, :35] #all features of student_outcome202220\n",
    "y = data.iloc[:, 35:] #semester_gpa, probation, discontinued value\n",
    "y_sem_gpa = y.iloc[:,:1]\n",
    "y_prob = y.iloc[:,1:2]\n",
    "y_disc = y.iloc[:,2:]\n",
    "\n",
    "y_prob = np.ravel(y_prob)\n",
    "y_disc = np.ravel(y_disc)\n",
    "\n"
   ]
  },
  {
   "cell_type": "code",
   "execution_count": 11,
   "id": "91e4ab5e",
   "metadata": {},
   "outputs": [
    {
     "name": "stdout",
     "output_type": "stream",
     "text": [
      "<class 'pandas.core.frame.DataFrame'>\n",
      "RangeIndex: 9361 entries, 0 to 9360\n",
      "Data columns (total 3 columns):\n",
      " #   Column        Non-Null Count  Dtype  \n",
      "---  ------        --------------  -----  \n",
      " 0   semester_gpa  8992 non-null   float64\n",
      " 1   probation     9361 non-null   int64  \n",
      " 2   discontinued  9361 non-null   int64  \n",
      "dtypes: float64(1), int64(2)\n",
      "memory usage: 219.5 KB\n"
     ]
    }
   ],
   "source": [
    "#semester_gpa has some missing values... drop these rows when using semester_gpa as the label!!\n",
    "y.info()"
   ]
  },
  {
   "cell_type": "markdown",
   "id": "1211e530",
   "metadata": {},
   "source": [
    "### 2. fix meal_plan and veteran_indicator then impute just to get all the feature names for later"
   ]
  },
  {
   "cell_type": "code",
   "execution_count": 6,
   "id": "e51844a0",
   "metadata": {},
   "outputs": [
    {
     "name": "stdout",
     "output_type": "stream",
     "text": [
      "[nan '8.0' '8' '5' 'L' '4.0' '1' '5.0' '4' '6.0' '2.0' '9.0' 'V' '1.0' 'H'\n",
      " '6' '9' '2']\n",
      "['None' '8' '5' 'L' '4' '1' '6' '2' '9' 'V' 'H']\n"
     ]
    }
   ],
   "source": [
    "#make a new category of mealplan since there is no category for student's without a mealplan\n",
    "Xraw['meal_plan'] = Xraw['meal_plan'].fillna(value = 'None') \n",
    "\n",
    "\n",
    "#make a new category of hall_name since there is no category for 'off campus'\n",
    "Xraw['hall_name'] = Xraw['hall_name'].fillna(value = 'Off_Campus') \n",
    "\n",
    "#veteran_indicator has float and int values for the same code\n",
    "print(Xraw['veteran_indicator'].unique())\n",
    "Xraw['veteran_indicator'] = Xraw['veteran_indicator'].fillna(value = 'None')\n",
    "Xraw['veteran_indicator'] = Xraw['veteran_indicator'].replace({'1.0':'1', '2.0':'2', '4.0':'4', '5.0':'5', '6.0':'6', '8.0':'8', '9.0':'9'})\n",
    "print(Xraw['veteran_indicator'].unique())"
   ]
  },
  {
   "cell_type": "code",
   "execution_count": 7,
   "id": "f13fab9a",
   "metadata": {},
   "outputs": [
    {
     "data": {
      "text/html": [
       "<div>\n",
       "<style scoped>\n",
       "    .dataframe tbody tr th:only-of-type {\n",
       "        vertical-align: middle;\n",
       "    }\n",
       "\n",
       "    .dataframe tbody tr th {\n",
       "        vertical-align: top;\n",
       "    }\n",
       "\n",
       "    .dataframe thead th {\n",
       "        text-align: right;\n",
       "    }\n",
       "</style>\n",
       "<table border=\"1\" class=\"dataframe\">\n",
       "  <thead>\n",
       "    <tr style=\"text-align: right;\">\n",
       "      <th></th>\n",
       "      <th>first_enroll_term</th>\n",
       "      <th>total_course_hours_attempted</th>\n",
       "      <th>first_gen_status</th>\n",
       "      <th>transfer_hours_bt</th>\n",
       "      <th>number_of_logins</th>\n",
       "      <th>total_time_spent_in_content</th>\n",
       "      <th>mid_term_grade</th>\n",
       "      <th>content_completion_rate</th>\n",
       "      <th>points_vs_median</th>\n",
       "      <th>points</th>\n",
       "      <th>...</th>\n",
       "      <th>gender</th>\n",
       "      <th>hall_name</th>\n",
       "      <th>meal_plan</th>\n",
       "      <th>TSI</th>\n",
       "      <th>race_ethnicity</th>\n",
       "      <th>admit_code</th>\n",
       "      <th>major_bt</th>\n",
       "      <th>college_bt</th>\n",
       "      <th>student_type_code</th>\n",
       "      <th>veteran_indicator</th>\n",
       "    </tr>\n",
       "  </thead>\n",
       "  <tbody>\n",
       "    <tr>\n",
       "      <th>0</th>\n",
       "      <td>202110</td>\n",
       "      <td>12</td>\n",
       "      <td>0</td>\n",
       "      <td>85.0</td>\n",
       "      <td>1102.0</td>\n",
       "      <td>11828.25</td>\n",
       "      <td>NaN</td>\n",
       "      <td>0.651572</td>\n",
       "      <td>0.978119</td>\n",
       "      <td>0.978119</td>\n",
       "      <td>...</td>\n",
       "      <td>1.0</td>\n",
       "      <td>Off_Campus</td>\n",
       "      <td>None</td>\n",
       "      <td>PI</td>\n",
       "      <td>White</td>\n",
       "      <td>T</td>\n",
       "      <td>DINS</td>\n",
       "      <td>ED</td>\n",
       "      <td>T</td>\n",
       "      <td>None</td>\n",
       "    </tr>\n",
       "  </tbody>\n",
       "</table>\n",
       "<p>1 rows × 35 columns</p>\n",
       "</div>"
      ],
      "text/plain": [
       "   first_enroll_term  total_course_hours_attempted  first_gen_status  \\\n",
       "0             202110                            12                 0   \n",
       "\n",
       "   transfer_hours_bt  number_of_logins  total_time_spent_in_content  \\\n",
       "0               85.0            1102.0                     11828.25   \n",
       "\n",
       "   mid_term_grade  content_completion_rate  points_vs_median    points  ...  \\\n",
       "0             NaN                 0.651572          0.978119  0.978119  ...   \n",
       "\n",
       "   gender   hall_name  meal_plan  TSI  race_ethnicity  admit_code  major_bt  \\\n",
       "0     1.0  Off_Campus       None   PI           White           T      DINS   \n",
       "\n",
       "   college_bt  student_type_code  veteran_indicator  \n",
       "0          ED                  T               None  \n",
       "\n",
       "[1 rows x 35 columns]"
      ]
     },
     "execution_count": 7,
     "metadata": {},
     "output_type": "execute_result"
    }
   ],
   "source": [
    "X_reorder = Xraw[Xraw.dtypes.sort_values().index]\n",
    "X_reorder.head(1)\n",
    "#all numerical features then all categorical features"
   ]
  },
  {
   "cell_type": "code",
   "execution_count": 10,
   "id": "231b29bf",
   "metadata": {},
   "outputs": [
    {
     "name": "stdout",
     "output_type": "stream",
     "text": [
      "(9361, 209)\n"
     ]
    }
   ],
   "source": [
    "#once I impute, then the column names go away. \n",
    "#so i need to do a one hot encoding before imputing simply to have a list of the column names for feature selection later\n",
    "X_dummies = pd.get_dummies(X_reorder)\n",
    "feature_list = list(X_dummies.columns.values)\n",
    "print(X_dummies.shape)\n",
    "feature_list #scan over the list, make sure nothing looks weird\n",
    "\n",
    "\n",
    "file = open('featurelist.txt','w')\n",
    "for item in feature_list:\n",
    "    file.write(item+\"\\n\")\n",
    "file.close()"
   ]
  },
  {
   "cell_type": "code",
   "execution_count": 12,
   "id": "d4c311fc",
   "metadata": {},
   "outputs": [
    {
     "data": {
      "text/plain": [
       "209"
      ]
     },
     "execution_count": 12,
     "metadata": {},
     "output_type": "execute_result"
    }
   ],
   "source": [
    "len(feature_list)\n",
    "#make sure the final set after imputed and one hot encoded has 209 entries!"
   ]
  },
  {
   "cell_type": "markdown",
   "id": "d41ece68",
   "metadata": {},
   "source": [
    "### 3. Split numerical and categorical"
   ]
  },
  {
   "cell_type": "code",
   "execution_count": 13,
   "id": "2ab25f59",
   "metadata": {},
   "outputs": [],
   "source": [
    "#imputers cannot work on specific columns, so I have to split the dataframe into numerical and categorical\n",
    "X_categorical = X_reorder.iloc[:,-9:]\n",
    "X_numerical = X_reorder.iloc[:,:26]"
   ]
  },
  {
   "cell_type": "markdown",
   "id": "4fc9d310",
   "metadata": {},
   "source": [
    "### 4. Imputing Missing Data"
   ]
  },
  {
   "cell_type": "code",
   "execution_count": 14,
   "id": "245be9ec",
   "metadata": {},
   "outputs": [
    {
     "name": "stdout",
     "output_type": "stream",
     "text": [
      "Size of X_categorical with simple imputer by most frequent: (9361, 9)\n",
      "Size of X_numerical with simple imputer by mean: (9361, 26)\n"
     ]
    }
   ],
   "source": [
    "#fill in missing data before one hot encoding\n",
    "#need to fill categorical data by most frequent and numerical data by mean\n",
    "\n",
    "#make 2 imputers\n",
    "imp_mean = SimpleImputer(missing_values = np.nan, strategy = 'mean')\n",
    "imp_freq = SimpleImputer(missing_values = np.nan, strategy = 'most_frequent')\n",
    "\n",
    "\n",
    "\n",
    "X_numerical = imp_mean.fit_transform(X_numerical)\n",
    "X_categorical = imp_freq.fit_transform(X_categorical)\n",
    "print(\"Size of X_categorical with simple imputer by most frequent: \" f\"{X_categorical.shape}\")\n",
    "print(\"Size of X_numerical with simple imputer by mean: \" f\"{X_numerical.shape}\")\n"
   ]
  },
  {
   "cell_type": "markdown",
   "id": "b136d5c7",
   "metadata": {},
   "source": [
    "### 5. One Hot Encoding on Categorical Data"
   ]
  },
  {
   "cell_type": "code",
   "execution_count": 15,
   "id": "55921ebd",
   "metadata": {},
   "outputs": [
    {
     "data": {
      "text/plain": [
       "(9361, 183)"
      ]
     },
     "execution_count": 15,
     "metadata": {},
     "output_type": "execute_result"
    }
   ],
   "source": [
    "from sklearn.preprocessing import OneHotEncoder\n",
    "enc = OneHotEncoder()\n",
    "X_cat_ohe = enc.fit_transform(X_categorical).toarray()\n",
    "X_cat_ohe.shape"
   ]
  },
  {
   "cell_type": "markdown",
   "id": "29a52107",
   "metadata": {},
   "source": [
    "### 6. Scale numerical data"
   ]
  },
  {
   "cell_type": "code",
   "execution_count": 16,
   "id": "d077f808",
   "metadata": {},
   "outputs": [],
   "source": [
    "#don't scale categorical data - leave as one hot encoded\n",
    "scaler = preprocessing.StandardScaler().fit(X_numerical)\n",
    "X_num_scaled = scaler.transform(X_numerical)"
   ]
  },
  {
   "cell_type": "markdown",
   "id": "1f6ead19",
   "metadata": {},
   "source": [
    "### 7. Join numerical and categorical data back into 1 structure"
   ]
  },
  {
   "cell_type": "code",
   "execution_count": 17,
   "id": "d106c535",
   "metadata": {},
   "outputs": [
    {
     "name": "stdout",
     "output_type": "stream",
     "text": [
      "concatenated shape:  (9361, 209)\n",
      "original shape:  (9361, 35)\n"
     ]
    }
   ],
   "source": [
    "X_full = np.concatenate([X_num_scaled, X_cat_ohe], axis = 1)\n",
    "print(\"concatenated shape: \", X_full.shape)\n",
    "print(\"original shape: \", Xraw.shape)\n",
    "#yay! we have the same amount of features from the feature_list! 208!!"
   ]
  },
  {
   "cell_type": "markdown",
   "id": "eac0e40a",
   "metadata": {},
   "source": [
    "### 8. Drop indices where there is no semester gpa"
   ]
  },
  {
   "cell_type": "code",
   "execution_count": 21,
   "id": "c8ca8ad9",
   "metadata": {},
   "outputs": [
    {
     "name": "stdout",
     "output_type": "stream",
     "text": [
      "(369,)\n",
      "(8992, 209)\n",
      "(8992, 1)\n"
     ]
    }
   ],
   "source": [
    "#drop_list = np.argwhere(np.isnan(y_sem_gpa))\n",
    "#y_sem_gpa starts at (9361,1)\n",
    "drop_list = np.where(np.isnan(y_sem_gpa))[0]\n",
    "print(drop_list.shape) #this matches the number of NaN values! yay!\n",
    "\n",
    "X_gpa = np.delete(X_full, drop_list, 0)\n",
    "print(X_gpa.shape) #shape matches! 9361 rows - 369 NaN rows = 8992 \n",
    "\n",
    "y_gpa = y_sem_gpa[~np.isnan(y_sem_gpa).any(axis = 1)]\n",
    "print(y_gpa.shape)\n",
    "y_gpa = np.ravel(y_gpa) #makes the shape go from (8992, 1) to (8992, ) so the models don't spit out warnings\n"
   ]
  },
  {
   "cell_type": "markdown",
   "id": "dec249c6",
   "metadata": {},
   "source": [
    "### 9. Create csv files to avoid these steps every time"
   ]
  },
  {
   "cell_type": "code",
   "execution_count": 30,
   "id": "b0c884e7",
   "metadata": {},
   "outputs": [],
   "source": [
    "X_full_df = pd.DataFrame(X_full, columns = feature_list)\n",
    "X_full_df.head()\n",
    "X_full_df.to_csv('ProcessedFeatures/allProcessedFeatures.csv')\n",
    "\n",
    "X_gpa_df = pd.DataFrame(X_gpa, columns = feature_list)\n",
    "X_gpa_df.to_csv('ProcessedFeatures/gpaProcessedFeatures.csv')\n",
    "\n",
    "y_gpa_df = pd.DataFrame(y_gpa)\n",
    "y_gpa_df.to_csv('ProcessedFeatures/y_gpa.csv')\n",
    "y_disc_df = pd.DataFrame(y_disc)\n",
    "y_disc_df.to_csv('ProcessedFeatures/y_disc.csv')\n",
    "y_prob_df = pd.DataFrame(y_prob)\n",
    "y_prob_df.to_csv('ProcessedFeatures/y_prob.csv')\n",
    "\n",
    "\n"
   ]
  },
  {
   "cell_type": "markdown",
   "id": "cc86abd6",
   "metadata": {},
   "source": [
    "# FEATURE SELECTION MODELS"
   ]
  },
  {
   "cell_type": "code",
   "execution_count": 16,
   "id": "7548f1f8",
   "metadata": {},
   "outputs": [],
   "source": [
    "from sklearn.feature_selection import SelectFromModel #feature selection\n",
    "from sklearn.feature_selection import SequentialFeatureSelector #feature selection\n",
    "from sklearn.neural_network import MLPClassifier #neural network\n",
    "from sklearn.linear_model import LogisticRegression #disc and prob model\n",
    "from sklearn.linear_model import SGDRegressor #semester gpa model\n",
    "\n",
    "from sklearn.model_selection import KFold #cross validation\n",
    "from sklearn.model_selection import cross_val_score #cross validation\n",
    "from sklearn.metrics import mean_squared_error #RMSE calculations\n",
    "from sklearn.metrics import get_scorer_names \n",
    "\n",
    "import pickle #save models for later, no retraining\n",
    "\n",
    "#models\n",
    "kf = KFold(n_splits = 5)\n",
    "logreg= LogisticRegression(max_iter = 300, solver = 'sag')\n",
    "sgd = SGDRegressor(random_state = 64, max_iter = 200)\n",
    "clf = MLPClassifier(solver = 'sgd', alpha = 1e-5, hidden_layer_sizes = (5,2), random_state = 1)"
   ]
  },
  {
   "cell_type": "markdown",
   "id": "706c9a2e",
   "metadata": {},
   "source": [
    "### Baseline check: run with all features"
   ]
  },
  {
   "cell_type": "code",
   "execution_count": 51,
   "id": "2cc2ac3e",
   "metadata": {},
   "outputs": [
    {
     "name": "stderr",
     "output_type": "stream",
     "text": [
      "C:\\Users\\Isabel\\anaconda3\\lib\\site-packages\\sklearn\\linear_model\\_sag.py:350: ConvergenceWarning: The max_iter was reached which means the coef_ did not converge\n",
      "  warnings.warn(\n",
      "C:\\Users\\Isabel\\anaconda3\\lib\\site-packages\\sklearn\\linear_model\\_sag.py:350: ConvergenceWarning: The max_iter was reached which means the coef_ did not converge\n",
      "  warnings.warn(\n",
      "C:\\Users\\Isabel\\anaconda3\\lib\\site-packages\\sklearn\\linear_model\\_sag.py:350: ConvergenceWarning: The max_iter was reached which means the coef_ did not converge\n",
      "  warnings.warn(\n",
      "C:\\Users\\Isabel\\anaconda3\\lib\\site-packages\\sklearn\\linear_model\\_sag.py:350: ConvergenceWarning: The max_iter was reached which means the coef_ did not converge\n",
      "  warnings.warn(\n",
      "C:\\Users\\Isabel\\anaconda3\\lib\\site-packages\\sklearn\\linear_model\\_sag.py:350: ConvergenceWarning: The max_iter was reached which means the coef_ did not converge\n",
      "  warnings.warn(\n"
     ]
    },
    {
     "name": "stdout",
     "output_type": "stream",
     "text": [
      "Disc Accuracy, all features:  75.68653857562026\n"
     ]
    },
    {
     "name": "stderr",
     "output_type": "stream",
     "text": [
      "C:\\Users\\Isabel\\anaconda3\\lib\\site-packages\\sklearn\\linear_model\\_sag.py:350: ConvergenceWarning: The max_iter was reached which means the coef_ did not converge\n",
      "  warnings.warn(\n",
      "C:\\Users\\Isabel\\anaconda3\\lib\\site-packages\\sklearn\\linear_model\\_sag.py:350: ConvergenceWarning: The max_iter was reached which means the coef_ did not converge\n",
      "  warnings.warn(\n",
      "C:\\Users\\Isabel\\anaconda3\\lib\\site-packages\\sklearn\\linear_model\\_sag.py:350: ConvergenceWarning: The max_iter was reached which means the coef_ did not converge\n",
      "  warnings.warn(\n",
      "C:\\Users\\Isabel\\anaconda3\\lib\\site-packages\\sklearn\\linear_model\\_sag.py:350: ConvergenceWarning: The max_iter was reached which means the coef_ did not converge\n",
      "  warnings.warn(\n",
      "C:\\Users\\Isabel\\anaconda3\\lib\\site-packages\\sklearn\\linear_model\\_sag.py:350: ConvergenceWarning: The max_iter was reached which means the coef_ did not converge\n",
      "  warnings.warn(\n"
     ]
    },
    {
     "name": "stdout",
     "output_type": "stream",
     "text": [
      "Prob Accuracy, all features:  87.3198077949813\n",
      "GPA neg RMSE, all features:  -0.6265992520894181\n"
     ]
    }
   ],
   "source": [
    "#find accuracy using all features on logreg or sgd-reg\n",
    "results = cross_val_score(logreg, X_full, y_disc, cv=kf)\n",
    "print(\"Disc Accuracy, all features: \" , results.mean()*100.0)\n",
    "\n",
    "results = cross_val_score(logreg, X_full, y_prob, cv=kf)\n",
    "print(\"Prob Accuracy, all features: \" , results.mean()*100.0)\n",
    "\n",
    "results = cross_val_score(sgd, X_gpa, y_gpa, cv=kf, scoring = 'neg_root_mean_squared_error')\n",
    "print(\"GPA neg RMSE, all features: \" , results.mean())"
   ]
  },
  {
   "cell_type": "markdown",
   "id": "d5d27652",
   "metadata": {},
   "source": [
    "###  Reverse/Backwards Feature Selection\n",
    "\n",
    "Fits the model with all the features, determines a score for each feature, and progressively cuts out the worst features.\n",
    "\n",
    "Stops when the change in model is below a tolerance"
   ]
  },
  {
   "cell_type": "markdown",
   "id": "eae10ee7",
   "metadata": {},
   "source": [
    "#### with neural network from last week"
   ]
  },
  {
   "cell_type": "code",
   "execution_count": null,
   "id": "abcf499f",
   "metadata": {},
   "outputs": [
    {
     "name": "stderr",
     "output_type": "stream",
     "text": [
      "C:\\Users\\Isabel\\anaconda3\\lib\\site-packages\\sklearn\\neural_network\\_multilayer_perceptron.py:1118: DataConversionWarning: A column-vector y was passed when a 1d array was expected. Please change the shape of y to (n_samples, ), for example using ravel().\n",
      "  y = column_or_1d(y, warn=True)\n",
      "C:\\Users\\Isabel\\anaconda3\\lib\\site-packages\\sklearn\\neural_network\\_multilayer_perceptron.py:702: ConvergenceWarning: Stochastic Optimizer: Maximum iterations (200) reached and the optimization hasn't converged yet.\n",
      "  warnings.warn(\n",
      "C:\\Users\\Isabel\\anaconda3\\lib\\site-packages\\sklearn\\neural_network\\_multilayer_perceptron.py:1118: DataConversionWarning: A column-vector y was passed when a 1d array was expected. Please change the shape of y to (n_samples, ), for example using ravel().\n",
      "  y = column_or_1d(y, warn=True)\n",
      "C:\\Users\\Isabel\\anaconda3\\lib\\site-packages\\sklearn\\neural_network\\_multilayer_perceptron.py:709: UserWarning: Training interrupted by user.\n",
      "  warnings.warn(\"Training interrupted by user.\")\n",
      "C:\\Users\\Isabel\\anaconda3\\lib\\site-packages\\sklearn\\neural_network\\_multilayer_perceptron.py:1118: DataConversionWarning: A column-vector y was passed when a 1d array was expected. Please change the shape of y to (n_samples, ), for example using ravel().\n",
      "  y = column_or_1d(y, warn=True)\n",
      "C:\\Users\\Isabel\\anaconda3\\lib\\site-packages\\sklearn\\neural_network\\_multilayer_perceptron.py:702: ConvergenceWarning: Stochastic Optimizer: Maximum iterations (200) reached and the optimization hasn't converged yet.\n",
      "  warnings.warn(\n",
      "C:\\Users\\Isabel\\anaconda3\\lib\\site-packages\\sklearn\\neural_network\\_multilayer_perceptron.py:1118: DataConversionWarning: A column-vector y was passed when a 1d array was expected. Please change the shape of y to (n_samples, ), for example using ravel().\n",
      "  y = column_or_1d(y, warn=True)\n",
      "C:\\Users\\Isabel\\anaconda3\\lib\\site-packages\\sklearn\\neural_network\\_multilayer_perceptron.py:702: ConvergenceWarning: Stochastic Optimizer: Maximum iterations (200) reached and the optimization hasn't converged yet.\n",
      "  warnings.warn(\n",
      "C:\\Users\\Isabel\\anaconda3\\lib\\site-packages\\sklearn\\neural_network\\_multilayer_perceptron.py:1118: DataConversionWarning: A column-vector y was passed when a 1d array was expected. Please change the shape of y to (n_samples, ), for example using ravel().\n",
      "  y = column_or_1d(y, warn=True)\n",
      "C:\\Users\\Isabel\\anaconda3\\lib\\site-packages\\sklearn\\neural_network\\_multilayer_perceptron.py:702: ConvergenceWarning: Stochastic Optimizer: Maximum iterations (200) reached and the optimization hasn't converged yet.\n",
      "  warnings.warn(\n",
      "C:\\Users\\Isabel\\anaconda3\\lib\\site-packages\\sklearn\\neural_network\\_multilayer_perceptron.py:1118: DataConversionWarning: A column-vector y was passed when a 1d array was expected. Please change the shape of y to (n_samples, ), for example using ravel().\n",
      "  y = column_or_1d(y, warn=True)\n",
      "C:\\Users\\Isabel\\anaconda3\\lib\\site-packages\\sklearn\\neural_network\\_multilayer_perceptron.py:702: ConvergenceWarning: Stochastic Optimizer: Maximum iterations (200) reached and the optimization hasn't converged yet.\n",
      "  warnings.warn(\n",
      "C:\\Users\\Isabel\\anaconda3\\lib\\site-packages\\sklearn\\neural_network\\_multilayer_perceptron.py:1118: DataConversionWarning: A column-vector y was passed when a 1d array was expected. Please change the shape of y to (n_samples, ), for example using ravel().\n",
      "  y = column_or_1d(y, warn=True)\n",
      "C:\\Users\\Isabel\\anaconda3\\lib\\site-packages\\sklearn\\neural_network\\_multilayer_perceptron.py:702: ConvergenceWarning: Stochastic Optimizer: Maximum iterations (200) reached and the optimization hasn't converged yet.\n",
      "  warnings.warn(\n",
      "C:\\Users\\Isabel\\anaconda3\\lib\\site-packages\\sklearn\\neural_network\\_multilayer_perceptron.py:1118: DataConversionWarning: A column-vector y was passed when a 1d array was expected. Please change the shape of y to (n_samples, ), for example using ravel().\n",
      "  y = column_or_1d(y, warn=True)\n",
      "C:\\Users\\Isabel\\anaconda3\\lib\\site-packages\\sklearn\\neural_network\\_multilayer_perceptron.py:702: ConvergenceWarning: Stochastic Optimizer: Maximum iterations (200) reached and the optimization hasn't converged yet.\n",
      "  warnings.warn(\n",
      "C:\\Users\\Isabel\\anaconda3\\lib\\site-packages\\sklearn\\neural_network\\_multilayer_perceptron.py:1118: DataConversionWarning: A column-vector y was passed when a 1d array was expected. Please change the shape of y to (n_samples, ), for example using ravel().\n",
      "  y = column_or_1d(y, warn=True)\n",
      "C:\\Users\\Isabel\\anaconda3\\lib\\site-packages\\sklearn\\neural_network\\_multilayer_perceptron.py:702: ConvergenceWarning: Stochastic Optimizer: Maximum iterations (200) reached and the optimization hasn't converged yet.\n",
      "  warnings.warn(\n",
      "C:\\Users\\Isabel\\anaconda3\\lib\\site-packages\\sklearn\\neural_network\\_multilayer_perceptron.py:1118: DataConversionWarning: A column-vector y was passed when a 1d array was expected. Please change the shape of y to (n_samples, ), for example using ravel().\n",
      "  y = column_or_1d(y, warn=True)\n",
      "C:\\Users\\Isabel\\anaconda3\\lib\\site-packages\\sklearn\\neural_network\\_multilayer_perceptron.py:702: ConvergenceWarning: Stochastic Optimizer: Maximum iterations (200) reached and the optimization hasn't converged yet.\n",
      "  warnings.warn(\n",
      "C:\\Users\\Isabel\\anaconda3\\lib\\site-packages\\sklearn\\neural_network\\_multilayer_perceptron.py:1118: DataConversionWarning: A column-vector y was passed when a 1d array was expected. Please change the shape of y to (n_samples, ), for example using ravel().\n",
      "  y = column_or_1d(y, warn=True)\n",
      "C:\\Users\\Isabel\\anaconda3\\lib\\site-packages\\sklearn\\neural_network\\_multilayer_perceptron.py:702: ConvergenceWarning: Stochastic Optimizer: Maximum iterations (200) reached and the optimization hasn't converged yet.\n",
      "  warnings.warn(\n",
      "C:\\Users\\Isabel\\anaconda3\\lib\\site-packages\\sklearn\\neural_network\\_multilayer_perceptron.py:1118: DataConversionWarning: A column-vector y was passed when a 1d array was expected. Please change the shape of y to (n_samples, ), for example using ravel().\n",
      "  y = column_or_1d(y, warn=True)\n",
      "C:\\Users\\Isabel\\anaconda3\\lib\\site-packages\\sklearn\\neural_network\\_multilayer_perceptron.py:702: ConvergenceWarning: Stochastic Optimizer: Maximum iterations (200) reached and the optimization hasn't converged yet.\n",
      "  warnings.warn(\n",
      "C:\\Users\\Isabel\\anaconda3\\lib\\site-packages\\sklearn\\neural_network\\_multilayer_perceptron.py:1118: DataConversionWarning: A column-vector y was passed when a 1d array was expected. Please change the shape of y to (n_samples, ), for example using ravel().\n",
      "  y = column_or_1d(y, warn=True)\n",
      "C:\\Users\\Isabel\\anaconda3\\lib\\site-packages\\sklearn\\neural_network\\_multilayer_perceptron.py:702: ConvergenceWarning: Stochastic Optimizer: Maximum iterations (200) reached and the optimization hasn't converged yet.\n",
      "  warnings.warn(\n",
      "C:\\Users\\Isabel\\anaconda3\\lib\\site-packages\\sklearn\\neural_network\\_multilayer_perceptron.py:1118: DataConversionWarning: A column-vector y was passed when a 1d array was expected. Please change the shape of y to (n_samples, ), for example using ravel().\n",
      "  y = column_or_1d(y, warn=True)\n",
      "C:\\Users\\Isabel\\anaconda3\\lib\\site-packages\\sklearn\\neural_network\\_multilayer_perceptron.py:702: ConvergenceWarning: Stochastic Optimizer: Maximum iterations (200) reached and the optimization hasn't converged yet.\n",
      "  warnings.warn(\n",
      "C:\\Users\\Isabel\\anaconda3\\lib\\site-packages\\sklearn\\neural_network\\_multilayer_perceptron.py:1118: DataConversionWarning: A column-vector y was passed when a 1d array was expected. Please change the shape of y to (n_samples, ), for example using ravel().\n",
      "  y = column_or_1d(y, warn=True)\n",
      "C:\\Users\\Isabel\\anaconda3\\lib\\site-packages\\sklearn\\neural_network\\_multilayer_perceptron.py:702: ConvergenceWarning: Stochastic Optimizer: Maximum iterations (200) reached and the optimization hasn't converged yet.\n",
      "  warnings.warn(\n",
      "C:\\Users\\Isabel\\anaconda3\\lib\\site-packages\\sklearn\\neural_network\\_multilayer_perceptron.py:1118: DataConversionWarning: A column-vector y was passed when a 1d array was expected. Please change the shape of y to (n_samples, ), for example using ravel().\n",
      "  y = column_or_1d(y, warn=True)\n",
      "C:\\Users\\Isabel\\anaconda3\\lib\\site-packages\\sklearn\\neural_network\\_multilayer_perceptron.py:702: ConvergenceWarning: Stochastic Optimizer: Maximum iterations (200) reached and the optimization hasn't converged yet.\n",
      "  warnings.warn(\n",
      "C:\\Users\\Isabel\\anaconda3\\lib\\site-packages\\sklearn\\neural_network\\_multilayer_perceptron.py:1118: DataConversionWarning: A column-vector y was passed when a 1d array was expected. Please change the shape of y to (n_samples, ), for example using ravel().\n",
      "  y = column_or_1d(y, warn=True)\n"
     ]
    },
    {
     "name": "stderr",
     "output_type": "stream",
     "text": [
      "C:\\Users\\Isabel\\anaconda3\\lib\\site-packages\\sklearn\\neural_network\\_multilayer_perceptron.py:702: ConvergenceWarning: Stochastic Optimizer: Maximum iterations (200) reached and the optimization hasn't converged yet.\n",
      "  warnings.warn(\n",
      "C:\\Users\\Isabel\\anaconda3\\lib\\site-packages\\sklearn\\neural_network\\_multilayer_perceptron.py:1118: DataConversionWarning: A column-vector y was passed when a 1d array was expected. Please change the shape of y to (n_samples, ), for example using ravel().\n",
      "  y = column_or_1d(y, warn=True)\n",
      "C:\\Users\\Isabel\\anaconda3\\lib\\site-packages\\sklearn\\neural_network\\_multilayer_perceptron.py:702: ConvergenceWarning: Stochastic Optimizer: Maximum iterations (200) reached and the optimization hasn't converged yet.\n",
      "  warnings.warn(\n",
      "C:\\Users\\Isabel\\anaconda3\\lib\\site-packages\\sklearn\\neural_network\\_multilayer_perceptron.py:1118: DataConversionWarning: A column-vector y was passed when a 1d array was expected. Please change the shape of y to (n_samples, ), for example using ravel().\n",
      "  y = column_or_1d(y, warn=True)\n",
      "C:\\Users\\Isabel\\anaconda3\\lib\\site-packages\\sklearn\\neural_network\\_multilayer_perceptron.py:702: ConvergenceWarning: Stochastic Optimizer: Maximum iterations (200) reached and the optimization hasn't converged yet.\n",
      "  warnings.warn(\n",
      "C:\\Users\\Isabel\\anaconda3\\lib\\site-packages\\sklearn\\neural_network\\_multilayer_perceptron.py:1118: DataConversionWarning: A column-vector y was passed when a 1d array was expected. Please change the shape of y to (n_samples, ), for example using ravel().\n",
      "  y = column_or_1d(y, warn=True)\n",
      "C:\\Users\\Isabel\\anaconda3\\lib\\site-packages\\sklearn\\neural_network\\_multilayer_perceptron.py:702: ConvergenceWarning: Stochastic Optimizer: Maximum iterations (200) reached and the optimization hasn't converged yet.\n",
      "  warnings.warn(\n",
      "C:\\Users\\Isabel\\anaconda3\\lib\\site-packages\\sklearn\\neural_network\\_multilayer_perceptron.py:1118: DataConversionWarning: A column-vector y was passed when a 1d array was expected. Please change the shape of y to (n_samples, ), for example using ravel().\n",
      "  y = column_or_1d(y, warn=True)\n",
      "C:\\Users\\Isabel\\anaconda3\\lib\\site-packages\\sklearn\\neural_network\\_multilayer_perceptron.py:702: ConvergenceWarning: Stochastic Optimizer: Maximum iterations (200) reached and the optimization hasn't converged yet.\n",
      "  warnings.warn(\n",
      "C:\\Users\\Isabel\\anaconda3\\lib\\site-packages\\sklearn\\neural_network\\_multilayer_perceptron.py:1118: DataConversionWarning: A column-vector y was passed when a 1d array was expected. Please change the shape of y to (n_samples, ), for example using ravel().\n",
      "  y = column_or_1d(y, warn=True)\n",
      "C:\\Users\\Isabel\\anaconda3\\lib\\site-packages\\sklearn\\neural_network\\_multilayer_perceptron.py:709: UserWarning: Training interrupted by user.\n",
      "  warnings.warn(\"Training interrupted by user.\")\n",
      "C:\\Users\\Isabel\\anaconda3\\lib\\site-packages\\sklearn\\neural_network\\_multilayer_perceptron.py:1118: DataConversionWarning: A column-vector y was passed when a 1d array was expected. Please change the shape of y to (n_samples, ), for example using ravel().\n",
      "  y = column_or_1d(y, warn=True)\n",
      "C:\\Users\\Isabel\\anaconda3\\lib\\site-packages\\sklearn\\neural_network\\_multilayer_perceptron.py:702: ConvergenceWarning: Stochastic Optimizer: Maximum iterations (200) reached and the optimization hasn't converged yet.\n",
      "  warnings.warn(\n",
      "C:\\Users\\Isabel\\anaconda3\\lib\\site-packages\\sklearn\\neural_network\\_multilayer_perceptron.py:1118: DataConversionWarning: A column-vector y was passed when a 1d array was expected. Please change the shape of y to (n_samples, ), for example using ravel().\n",
      "  y = column_or_1d(y, warn=True)\n",
      "C:\\Users\\Isabel\\anaconda3\\lib\\site-packages\\sklearn\\neural_network\\_multilayer_perceptron.py:702: ConvergenceWarning: Stochastic Optimizer: Maximum iterations (200) reached and the optimization hasn't converged yet.\n",
      "  warnings.warn(\n",
      "C:\\Users\\Isabel\\anaconda3\\lib\\site-packages\\sklearn\\neural_network\\_multilayer_perceptron.py:1118: DataConversionWarning: A column-vector y was passed when a 1d array was expected. Please change the shape of y to (n_samples, ), for example using ravel().\n",
      "  y = column_or_1d(y, warn=True)\n",
      "C:\\Users\\Isabel\\anaconda3\\lib\\site-packages\\sklearn\\neural_network\\_multilayer_perceptron.py:702: ConvergenceWarning: Stochastic Optimizer: Maximum iterations (200) reached and the optimization hasn't converged yet.\n",
      "  warnings.warn(\n",
      "C:\\Users\\Isabel\\anaconda3\\lib\\site-packages\\sklearn\\neural_network\\_multilayer_perceptron.py:1118: DataConversionWarning: A column-vector y was passed when a 1d array was expected. Please change the shape of y to (n_samples, ), for example using ravel().\n",
      "  y = column_or_1d(y, warn=True)\n",
      "C:\\Users\\Isabel\\anaconda3\\lib\\site-packages\\sklearn\\neural_network\\_multilayer_perceptron.py:702: ConvergenceWarning: Stochastic Optimizer: Maximum iterations (200) reached and the optimization hasn't converged yet.\n",
      "  warnings.warn(\n",
      "C:\\Users\\Isabel\\anaconda3\\lib\\site-packages\\sklearn\\neural_network\\_multilayer_perceptron.py:1118: DataConversionWarning: A column-vector y was passed when a 1d array was expected. Please change the shape of y to (n_samples, ), for example using ravel().\n",
      "  y = column_or_1d(y, warn=True)\n",
      "C:\\Users\\Isabel\\anaconda3\\lib\\site-packages\\sklearn\\neural_network\\_multilayer_perceptron.py:702: ConvergenceWarning: Stochastic Optimizer: Maximum iterations (200) reached and the optimization hasn't converged yet.\n",
      "  warnings.warn(\n",
      "C:\\Users\\Isabel\\anaconda3\\lib\\site-packages\\sklearn\\neural_network\\_multilayer_perceptron.py:1118: DataConversionWarning: A column-vector y was passed when a 1d array was expected. Please change the shape of y to (n_samples, ), for example using ravel().\n",
      "  y = column_or_1d(y, warn=True)\n",
      "C:\\Users\\Isabel\\anaconda3\\lib\\site-packages\\sklearn\\neural_network\\_multilayer_perceptron.py:702: ConvergenceWarning: Stochastic Optimizer: Maximum iterations (200) reached and the optimization hasn't converged yet.\n",
      "  warnings.warn(\n",
      "C:\\Users\\Isabel\\anaconda3\\lib\\site-packages\\sklearn\\neural_network\\_multilayer_perceptron.py:1118: DataConversionWarning: A column-vector y was passed when a 1d array was expected. Please change the shape of y to (n_samples, ), for example using ravel().\n",
      "  y = column_or_1d(y, warn=True)\n",
      "C:\\Users\\Isabel\\anaconda3\\lib\\site-packages\\sklearn\\neural_network\\_multilayer_perceptron.py:702: ConvergenceWarning: Stochastic Optimizer: Maximum iterations (200) reached and the optimization hasn't converged yet.\n",
      "  warnings.warn(\n",
      "C:\\Users\\Isabel\\anaconda3\\lib\\site-packages\\sklearn\\neural_network\\_multilayer_perceptron.py:1118: DataConversionWarning: A column-vector y was passed when a 1d array was expected. Please change the shape of y to (n_samples, ), for example using ravel().\n",
      "  y = column_or_1d(y, warn=True)\n"
     ]
    }
   ],
   "source": [
    "sfs_backward = SequentialFeatureSelector(clf, n_features_to_select=10, direction=\"backward\").fit(X_full, y)\n",
    "\n",
    "print(\n",
    "    \"Features selected by backward sequential selection: \"\n",
    "    f\"{feature_names[sfs_backward.get_support()]}\"\n",
    ")\n"
   ]
  },
  {
   "cell_type": "markdown",
   "id": "2f3ab400",
   "metadata": {},
   "source": [
    "#### with logistic regression and sgd regression"
   ]
  },
  {
   "cell_type": "code",
   "execution_count": null,
   "id": "140c826d",
   "metadata": {},
   "outputs": [],
   "source": [
    "#give SequentialFeatureSelector an unfitted estimator!!\n",
    "#nevermind, it never got through just the discontinued after 36 hours... give it fitted then check the features individually\n",
    "\n",
    "\n",
    "#discontinue\n",
    "with warnings.catch_warnings(record=True):\n",
    "    logreg_disc= LogisticRegression(max_iter = 150, solver = 'sag').fit(X_full, y_disc)\n",
    "    sfs_backward_disc = SequentialFeatureSelector(logreg_disc, n_features_to_select=20, direction=\"backward\").fit(X_full, y_disc)\n",
    "pickle.dump(sfs_backward_disc, open('sfs_backward_disc.pkl', 'wb'))   \n",
    "print(\"done with disc\")\n",
    "    \n",
    "#probation\n",
    "with warnings.catch_warnings(record=True):\n",
    "    logreg_prob= LogisticRegression(max_iter = 150, solver = 'sag').fit(X_full, y_prob)\n",
    "    sfs_backward_prob = SequentialFeatureSelector(logreg_prob, n_features_to_select=20, direction=\"backward\").fit(X_full, y_prob)\n",
    "pickle.dump(sfs_backward_prob, open('sfs_backward_prob.pkl', 'wb'))    \n",
    "print(\"done with prob\")\n",
    "\n",
    "#sem_gpa\n",
    "with warnings.catch_warnings(record=True):\n",
    "    sgd_short = SGDRegressor(random_state = 64, max_iter = 100).fit(X_gpa, y_gpa)\n",
    "    sfs_backward_gpa = SequentialFeatureSelector(sgd_short, n_features_to_select=20, direction=\"backward\", scoring = 'neg_root_mean_squared_error').fit(X_gpa, y_gpa)\n",
    "pickle.dump(sfs_backward_gpa, open('sfs_backward_gpa.pkl', 'wb'))    \n",
    "print(\"done with all!\")\n"
   ]
  },
  {
   "cell_type": "code",
   "execution_count": null,
   "id": "0a034646",
   "metadata": {},
   "outputs": [],
   "source": [
    "print(sfs_backward_disc.get_feature_names_out())\n",
    "print(sfs_backward_prob.get_feature_names_out())\n",
    "print(sfs_backward_gpa.get_feature_names_out())\n"
   ]
  },
  {
   "cell_type": "code",
   "execution_count": null,
   "id": "dc1384d1",
   "metadata": {},
   "outputs": [],
   "source": [
    "\n",
    "p_sfs_backward_disc = pickle.load(open('sfs_backward_disc.pkl', 'rb'))\n",
    "p_sfs_backward_prob = pickle.load(open('sfs_backward_prob.pkl', 'rb'))\n",
    "p_sfs_backward_gpa = pickle.load(open('sfs_backward_gpa.pkl', 'rb'))\n",
    "\n",
    "print(\"BEST DISCONTINUE FEATURES\")\n",
    "disc_rsfs_index = [0,1,3,5,18,27,74,77,135,164]\n",
    "for i in disc_rsfs_index:\n",
    "    print(feature_list[i])\n",
    "\n",
    "print(\"\\nBEST PROBATION FEATURES\")\n",
    "prob_rsfs_index = [6,9,10,16,18,19,32,48,61,116]\n",
    "for i in disc_rsfs_index:\n",
    "    print(feature_list[i])\n",
    "        \n",
    "print(\"\\nBEST SEM_GPA FEATURES\")\n",
    "gpa_rsfs_index = []\n",
    "for i in gpa_rsfs_index:\n",
    "    print(feature_list[i])"
   ]
  },
  {
   "cell_type": "code",
   "execution_count": 87,
   "id": "6030a8cb",
   "metadata": {},
   "outputs": [
    {
     "name": "stdout",
     "output_type": "stream",
     "text": [
      "Disc Accuracy:  76.32740450212421\n",
      "Prob Accuracy:  86.50792184027637\n"
     ]
    }
   ],
   "source": [
    "#train and test logreg model with these features, find accuracy\n",
    "X_sfs_disc = X_full[:, [0, 1, 3, 5, 18, 27, 74, 77, 135, 164]]\n",
    "kf = KFold(n_splits = 5)\n",
    "logreg= LogisticRegression()\n",
    "results = cross_val_score(logreg, X_sfs_disc, y_disc, cv=kf)\n",
    "print(\"Disc Accuracy: \" , results.mean()*100.0)    \n",
    "    \n",
    "    \n",
    "X_sfs_prob = X_full[:, [6, 9, 10, 16, 18, 19, 32, 48, 61, 116]]\n",
    "results = cross_val_score(logreg, X_sfs_prob, y_prob, cv=kf)\n",
    "print(\"Prob Accuracy: \" , results.mean()*100.0)"
   ]
  },
  {
   "cell_type": "code",
   "execution_count": 54,
   "id": "4a1b522b",
   "metadata": {},
   "outputs": [
    {
     "name": "stdout",
     "output_type": "stream",
     "text": [
      "Disc (8,2) Accuracy:  78.83783157875523\n",
      "Disc (5,2) Accuracy:  78.12210517429418\n",
      "Disc (3,2) Accuracy:  75.7931822433958\n",
      "Prob (8,2) Accuracy:  86.62544320779772\n",
      "Prob (5,2) Accuracy:  86.46515827709102\n",
      "Prob (3,2) Accuracy:  86.44380786799367\n"
     ]
    }
   ],
   "source": [
    "## test those features on a neural network and see how the accuracy changes\n",
    "nn_8 = MLPClassifier(solver = 'sgd', alpha = 1e-5, hidden_layer_sizes = (8,2), max_iter = 400, random_state = 1)\n",
    "nn_5 = MLPClassifier(solver = 'sgd', alpha = 1e-5, hidden_layer_sizes = (5,2), max_iter = 400, random_state = 1)\n",
    "nn_3 = MLPClassifier(solver = 'sgd', alpha = 1e-5, hidden_layer_sizes = (3,2), max_iter = 400, random_state = 1)\n",
    "\n",
    "\n",
    "\n",
    "results = cross_val_score(nn_8, X_sfs_disc, y_disc, cv=kf)\n",
    "print(\"Disc (8,2) Accuracy: \" , results.mean()*100.0)  \n",
    "\n",
    "results = cross_val_score(nn_5, X_sfs_disc, y_disc, cv=kf)\n",
    "print(\"Disc (5,2) Accuracy: \" , results.mean()*100.0)  \n",
    "\n",
    "results = cross_val_score(nn_3, X_sfs_disc, y_disc, cv=kf)\n",
    "print(\"Disc (3,2) Accuracy: \" , results.mean()*100.0)  \n",
    "\n",
    "results = cross_val_score(nn_8, X_sfs_prob, y_prob, cv=kf)\n",
    "print(\"Prob (8,2) Accuracy: \" , results.mean()*100.0)  \n",
    "\n",
    "results = cross_val_score(nn_5, X_sfs_prob, y_prob, cv=kf)\n",
    "print(\"Prob (5,2) Accuracy: \" , results.mean()*100.0)  \n",
    "\n",
    "results = cross_val_score(nn_3, X_sfs_prob, y_prob, cv=kf)\n",
    "print(\"Prob (3,2) Accuracy: \" , results.mean()*100.0)  "
   ]
  },
  {
   "cell_type": "markdown",
   "id": "cc4f877b",
   "metadata": {},
   "source": [
    "## Select From Model\n",
    "\n",
    "creates a logistic regression model using all the features given, then pulls out the best performing features from that one training"
   ]
  },
  {
   "cell_type": "code",
   "execution_count": 71,
   "id": "9569d043",
   "metadata": {},
   "outputs": [
    {
     "name": "stdout",
     "output_type": "stream",
     "text": [
      "best features to predict probation:  ['x6' 'x33' 'x36' 'x40' 'x80' 'x117' 'x122' 'x133' 'x176' 'x195']\n",
      "best features to predict discontinued:  ['x18' 'x27' 'x33' 'x87' 'x108' 'x117' 'x142' 'x168' 'x183' 'x196']\n",
      "best features to predict semester_gpa:  ['x6' 'x19' 'x71' 'x117' 'x186' 'x189' 'x193' 'x197' 'x201' 'x206']\n"
     ]
    }
   ],
   "source": [
    "#for probation status\n",
    "with warnings.catch_warnings(record=True):\n",
    "    logreg = LogisticRegression().fit(X_full,y_prob)\n",
    "    selector = SelectFromModel(estimator=logreg, max_features = 10).fit(X_full, y_prob)\n",
    "print(\"best features to predict probation: \", selector.get_feature_names_out())\n",
    "\n",
    "#for discontinued status\n",
    "with warnings.catch_warnings(record=True):\n",
    "    logreg = LogisticRegression().fit(X_full,y_disc)\n",
    "    selector = SelectFromModel(estimator=logreg, max_features = 10).fit(X_full, y_disc)\n",
    "print(\"best features to predict discontinued: \", selector.get_feature_names_out())\n",
    "\n",
    "#for semester gpa\n",
    "with warnings.catch_warnings(record=True):\n",
    "    sgdreg = SGDRegressor(random_state = 64).fit(X_gpa,y_gpa)\n",
    "    selector = SelectFromModel(estimator=sgdreg, max_features = 10).fit(X_gpa, y_gpa)\n",
    "print(\"best features to predict semester_gpa: \", selector.get_feature_names_out())"
   ]
  },
  {
   "cell_type": "code",
   "execution_count": 63,
   "id": "cf9f0739",
   "metadata": {},
   "outputs": [
    {
     "name": "stdout",
     "output_type": "stream",
     "text": [
      "BEST PROBATION FEATURES\n",
      "mid_term_grade\n",
      "hall_name_Off Campus\n",
      "meal_plan_100 Block Plan\n",
      "meal_plan_45 Block Fac/Staff\n",
      "admit_code_FT\n",
      "major_bt_CONC\n",
      "major_bt_DBCC\n",
      "major_bt_FCSC\n",
      "major_bt_RNUR\n",
      "student_type_code_R\n"
     ]
    }
   ],
   "source": [
    "#use the list from earlier to see what those x features are\n",
    "print(\"BEST PROBATION FEATURES\")\n",
    "gpa_ft_index = [6,33,36,40,80,117,122,133,176,195]\n",
    "for i in gpa_ft_index:\n",
    "    print(feature_list[i])\n",
    "    \n",
    "#admit_code_FT = UG freshman with <15 transfer hours\n",
    "#CONC = concurrent/not designated\n",
    "#DBCC = business comminucation and corp. education\n",
    "#FCSC = family and consumer science\n",
    "#RNUR = nursing (post RN)\n",
    "#student_type_code_R = UG-Returning student"
   ]
  },
  {
   "cell_type": "code",
   "execution_count": 64,
   "id": "84045ce1",
   "metadata": {},
   "outputs": [
    {
     "name": "stdout",
     "output_type": "stream",
     "text": [
      "BEST DISCONTINUED FEATURES\n",
      "total_sfa_hours_bt\n",
      "hall_name_Hall 14\n",
      "hall_name_Off Campus\n",
      "admit_code_OT\n",
      "major_bt_BIOC\n",
      "major_bt_CONC\n",
      "major_bt_GEOL\n",
      "major_bt_PBAD\n",
      "major_bt_TRAN\n",
      "student_type_code_S\n"
     ]
    }
   ],
   "source": [
    "print(\"BEST DISCONTINUED FEATURES\")\n",
    "disc_ft_index = [18, 27, 33, 87, 108, 117, 142, 168, 183, 196]\n",
    "for i in disc_ft_index:\n",
    "    print(feature_list[i])\n",
    "    \n",
    "#admit_code_OT = UG-Mature Student(OTAS)\n",
    "#BIOC = biochemistry\n",
    "#CONC = concurrent/not designated\n",
    "#GEOL = geology\n",
    "#INTB = international business\n",
    "#PBAD = public administration\n",
    "#TRAN = transient student\n",
    "#student_type_code_S = UG-transient"
   ]
  },
  {
   "cell_type": "code",
   "execution_count": 65,
   "id": "b6af9ed3",
   "metadata": {},
   "outputs": [
    {
     "name": "stdout",
     "output_type": "stream",
     "text": [
      "BEST SEM_GPA FEATURES\n",
      "mid_term_grade\n",
      "begin_of_semester_gpa\n",
      "race_ethnicity_Unknown or Not Reported\n",
      "major_bt_CONC\n",
      "college_bt_ED\n",
      "college_bt_LA\n",
      "student_type_code_F\n",
      "student_type_code_T\n",
      "veteran_indicator_5\n",
      "veteran_indicator_L\n"
     ]
    }
   ],
   "source": [
    "print(\"BEST SEM_GPA FEATURES\")\n",
    "gpa_ft_index = [6, 19, 71, 117, 186, 189, 193, 197, 201, 206]\n",
    "for i in gpa_ft_index:\n",
    "    print(feature_list[i])\n",
    "    \n",
    "#CONC = concurrent/not determined\n",
    "#ED = college of education\n",
    "#LA = college of liberal arts\n",
    "#student type F = UG-New first time freshman\n",
    "#student type T = Transfer student\n",
    "#veteran indicator 5 = chapter 25 dep edu program\n",
    "#veteran indicator L = legacy"
   ]
  },
  {
   "cell_type": "code",
   "execution_count": 94,
   "id": "81d44f99",
   "metadata": {
    "scrolled": true
   },
   "outputs": [
    {
     "name": "stdout",
     "output_type": "stream",
     "text": [
      "Disc Accuracy (logreg, 5-cv, SelectFromModel ft):  73.38975248812407\n",
      "Prob Accuracy (logreg, 5-cv, SelectFromModel ft):  85.2901100204891\n",
      "GPA neg RMSE (sgd reg, 5-cv, SelectFromModel ft):  -0.6495363324748097\n"
     ]
    }
   ],
   "source": [
    "#find accuracy of logreg on DISCONTINUE with just the pulled features\n",
    "X_best_disc = X_full[:, [18,32,86, 107,116,141,151,167,182,195]]\n",
    "\n",
    "results = cross_val_score(logreg, X_best_disc, y_disc, cv=kf)\n",
    "print(\"Disc Accuracy (logreg, 5-cv, SelectFromModel ft): \" , results.mean()*100.0) \n",
    "\n",
    "\n",
    "#find accuracy of logreg on PROBATION with just the pulled features\n",
    "X_best_prob = X_full[:, [6,35,39,79,96,116,121,132,175,194]]\n",
    "\n",
    "logreg= LogisticRegression()\n",
    "results = cross_val_score(logreg, X_best_prob, y_prob, cv=kf)\n",
    "print(\"Prob Accuracy (logreg, 5-cv, SelectFromModel ft): \" , results.mean()*100.0)\n",
    "\n",
    "\n",
    "\n",
    "#find RMSE of sem_gpa with just the pulled features\n",
    "X_best_gpa = X_gpa[:, [6,19,70,116,185,188,192,196,200,205]]\n",
    "\n",
    "sgdreg = SGDRegressor(random_state = 64)\n",
    "results = cross_val_score(sgdreg, X_best_gpa, y_gpa, cv=kf, scoring = 'neg_root_mean_squared_error')\n",
    "print(\"GPA neg RMSE (sgd reg, 5-cv, SelectFromModel ft): \", results.mean())"
   ]
  }
 ],
 "metadata": {
  "kernelspec": {
   "display_name": "Python 3 (ipykernel)",
   "language": "python",
   "name": "python3"
  },
  "language_info": {
   "codemirror_mode": {
    "name": "ipython",
    "version": 3
   },
   "file_extension": ".py",
   "mimetype": "text/x-python",
   "name": "python",
   "nbconvert_exporter": "python",
   "pygments_lexer": "ipython3",
   "version": "3.9.16"
  }
 },
 "nbformat": 4,
 "nbformat_minor": 5
}
